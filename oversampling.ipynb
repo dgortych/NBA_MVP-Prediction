{
 "cells": [
  {
   "cell_type": "code",
   "execution_count": null,
   "metadata": {},
   "outputs": [],
   "source": [
    "from imblearn.over_sampling import SMOTE\n",
    "\n",
    "smote = SMOTE(sampling_strategy = 1,random_state= 42)\n",
    "data, classes = smote.fit_resample(data.drop([\"Player\",\"Pos\"],axis=1), classes)\n",
    "\n",
    "fig, ax = plt.subplots()\n",
    "fig.patch.set_facecolor('white')\n",
    "wedges, texts, autotexts = ax.pie(classes.value_counts(), \n",
    "       autopct = lambda pct: func(pct, classes.value_counts()),\n",
    "       pctdistance = 0.4)\n",
    "\n",
    "ax.set_title(\"MVP votes received by players after SMOTE\",fontsize=16)\n",
    "ax.legend([\"No-votes\", \"Votes\"],\n",
    "          title=\"Legend\",\n",
    "          loc = 'center right',\n",
    "           bbox_to_anchor=(1.25, 0.85))\n",
    "\n",
    "plt.show()"
   ]
  },
  {
   "cell_type": "code",
   "execution_count": null,
   "metadata": {},
   "outputs": [],
   "source": [
    "data[\"is_smote\"] = data.index >= len(data_old)\n",
    "labeledDataDf = data.merge(data_old, how = \"left\")"
   ]
  }
 ],
 "metadata": {
  "kernelspec": {
   "display_name": ".venv",
   "language": "python",
   "name": "python3"
  },
  "language_info": {
   "codemirror_mode": {
    "name": "ipython",
    "version": 3
   },
   "file_extension": ".py",
   "mimetype": "text/x-python",
   "name": "python",
   "nbconvert_exporter": "python",
   "pygments_lexer": "ipython3",
   "version": "3.11.5"
  },
  "orig_nbformat": 4
 },
 "nbformat": 4,
 "nbformat_minor": 2
}
